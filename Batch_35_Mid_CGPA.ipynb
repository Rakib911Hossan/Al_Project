{
  "nbformat": 4,
  "nbformat_minor": 0,
  "metadata": {
    "colab": {
      "provenance": [],
      "include_colab_link": true
    },
    "kernelspec": {
      "name": "python3",
      "display_name": "Python 3"
    },
    "language_info": {
      "name": "python"
    }
  },
  "cells": [
    {
      "cell_type": "markdown",
      "metadata": {
        "id": "view-in-github",
        "colab_type": "text"
      },
      "source": [
        "<a href=\"https://colab.research.google.com/github/Rakib911Hossan/Al_Project/blob/main/Batch_35_Mid_CGPA.ipynb\" target=\"_parent\"><img src=\"https://colab.research.google.com/assets/colab-badge.svg\" alt=\"Open In Colab\"/></a>"
      ]
    },
    {
      "cell_type": "code",
      "execution_count": null,
      "metadata": {
        "colab": {
          "base_uri": "https://localhost:8080/"
        },
        "id": "rFVtAgw0YlOd",
        "outputId": "d21c1c68-262b-4af2-c8c0-bc417b264576"
      },
      "outputs": [
        {
          "output_type": "stream",
          "name": "stdout",
          "text": [
            "Enter Course Code1:CSE 100\n",
            "Enter Course Code2:CSE 200\n",
            "Enter Course Code3:CSE 300\n",
            "Enter Course Code4:CSE 400\n",
            "['CSE 100', 'CSE 200', 'CSE 300', 'CSE 400']\n",
            "Enter marks of CSE 100:70\n",
            "Enter credit of CSE 100:3\n",
            "Enter marks of CSE 200:80\n",
            "Enter credit of CSE 200:2\n",
            "Enter marks of CSE 300:95\n",
            "Enter credit of CSE 300:3\n",
            "Enter marks of CSE 400:65\n",
            "Enter credit of CSE 400:2\n",
            "[70, 80, 95, 65]\n",
            "[3, 2, 3, 2]\n"
          ]
        }
      ],
      "source": [
        "course_code=[]\n",
        "for i in range(4):\n",
        "    x=input(f\"Enter Course Code{i+1}:\")\n",
        "    course_code.append(x)\n",
        "print(course_code)\n",
        "marks=[]\n",
        "credit=[]\n",
        "for i in range(4):\n",
        "    x=int(input(f\"Enter marks of {course_code[i]}:\"))\n",
        "    y = int(input(f\"Enter credit of {course_code[i]}:\"))\n",
        "    marks.append(x)\n",
        "    credit.append(y)\n"
      ]
    },
    {
      "cell_type": "code",
      "source": [
        "print(\"Marks\",marks)\n",
        "print(\"Credit\",credit)"
      ],
      "metadata": {
        "colab": {
          "base_uri": "https://localhost:8080/"
        },
        "id": "5BWgIh2fZBEO",
        "outputId": "e40250b5-7ed2-44b8-d3b5-b53c4512227f"
      },
      "execution_count": null,
      "outputs": [
        {
          "output_type": "stream",
          "name": "stdout",
          "text": [
            "Marks [70, 80, 95, 65]\n",
            "Credit [3, 2, 3, 2]\n"
          ]
        }
      ]
    },
    {
      "cell_type": "code",
      "source": [
        "grade_list=[]\n",
        "for i in range(4):\n",
        "  if marks[i]>=80:\n",
        "    grade=4.0\n",
        "  elif marks[i]>=70:\n",
        "    grade=3.5\n",
        "  elif marks[i]>=60:\n",
        "    grade=3.0\n",
        "  elif marks[i]>=50:\n",
        "    grade=2.5\n",
        "  elif marks[i]>=40:\n",
        "    grade=2.0\n",
        "  else:\n",
        "    grade=0\n",
        "  grade_list.append(grade)\n",
        "print(grade_list)"
      ],
      "metadata": {
        "colab": {
          "base_uri": "https://localhost:8080/"
        },
        "id": "qvz_YuGpZLFe",
        "outputId": "83af24c8-a7ae-4503-9bb8-e9cea7b5f8b2"
      },
      "execution_count": null,
      "outputs": [
        {
          "output_type": "stream",
          "name": "stdout",
          "text": [
            "[3.5, 4.0, 4.0, 3.0]\n"
          ]
        }
      ]
    },
    {
      "cell_type": "code",
      "source": [
        "cgpa=0\n",
        "for i in range(4):\n",
        "  cgpa=cgpa+grade_list[i]*credit[i]\n",
        "  result=cgpa/sum(credit)\n",
        "print(result)\n"
      ],
      "metadata": {
        "colab": {
          "base_uri": "https://localhost:8080/"
        },
        "id": "NaDWd1kzZFY-",
        "outputId": "7c4d16e1-ef89-4ef3-e82d-2f5c69f2f69e"
      },
      "execution_count": null,
      "outputs": [
        {
          "output_type": "stream",
          "name": "stdout",
          "text": [
            "3.65\n"
          ]
        }
      ]
    }
  ]
}