{
  "nbformat": 4,
  "nbformat_minor": 0,
  "metadata": {
    "colab": {
      "provenance": [],
      "include_colab_link": true
    },
    "kernelspec": {
      "name": "python3",
      "display_name": "Python 3"
    },
    "language_info": {
      "name": "python"
    }
  },
  "cells": [
    {
      "cell_type": "markdown",
      "metadata": {
        "id": "view-in-github",
        "colab_type": "text"
      },
      "source": [
        "<a href=\"https://colab.research.google.com/github/Rakib911Hossan/Al_Project/blob/main/Uinformed_Search_44_2.ipynb\" target=\"_parent\"><img src=\"https://colab.research.google.com/assets/colab-badge.svg\" alt=\"Open In Colab\"/></a>"
      ]
    },
    {
      "cell_type": "markdown",
      "source": [
        "**BFS**"
      ],
      "metadata": {
        "id": "y1dxKDSG77FO"
      }
    },
    {
      "cell_type": "code",
      "source": [
        "from collections import deque\n",
        "\n",
        "def bfs(graph, start, goal):\n",
        "    visited = set()\n",
        "    queue = deque([(start, [start])])  # (node, path)\n",
        "\n",
        "    while queue:\n",
        "        node, path = queue.popleft()\n",
        "\n",
        "        if node == goal:\n",
        "            return path\n",
        "\n",
        "        if node not in visited:\n",
        "            visited.add(node)\n",
        "            for neighbor in graph[node]:\n",
        "                queue.append((neighbor, path + [neighbor]))\n",
        "\n",
        "    return None  # If no path is found\n",
        "\n",
        "# Example graph represented as an adjacency list\n",
        "graph = {\n",
        "    'A': ['B', 'C'],\n",
        "    'B': ['A', 'D', 'E'],\n",
        "    'C': ['A', 'F'],\n",
        "    'D': ['B'],\n",
        "    'E': ['B', 'F'],\n",
        "    'F': ['C', 'E']\n",
        "}\n",
        "\n",
        "start, goal = 'A', 'F'\n",
        "path = bfs(graph, start, goal)\n",
        "print(\"BFS Path:\", path)\n"
      ],
      "metadata": {
        "colab": {
          "base_uri": "https://localhost:8080/"
        },
        "id": "g1MEqgld7-hT",
        "outputId": "2b06d48d-350b-43b2-d6c4-3c9604c52540"
      },
      "execution_count": 2,
      "outputs": [
        {
          "output_type": "stream",
          "name": "stdout",
          "text": [
            "BFS Path: ['A', 'C', 'F']\n"
          ]
        }
      ]
    },
    {
      "cell_type": "markdown",
      "source": [
        "DFS"
      ],
      "metadata": {
        "id": "FIOBqaMw8I-L"
      }
    },
    {
      "cell_type": "code",
      "source": [
        "def dfs(graph, start, goal, visited=None, path=None):\n",
        "    if visited is None:\n",
        "        visited = set()\n",
        "    if path is None:\n",
        "        path = []\n",
        "\n",
        "    visited.add(start)\n",
        "    path.append(start)\n",
        "\n",
        "    if start == goal:\n",
        "        return path\n",
        "\n",
        "    for neighbor in graph[start]:\n",
        "        if neighbor not in visited:\n",
        "            result = dfs(graph, neighbor, goal, visited, path)\n",
        "            if result:\n",
        "                return result\n",
        "\n",
        "    path.pop()  # Backtrack if no solution found\n",
        "    return None\n",
        "\n",
        "# Example graph\n",
        "path = dfs(graph, start, goal)\n",
        "print(\"DFS Path:\", path)\n"
      ],
      "metadata": {
        "colab": {
          "base_uri": "https://localhost:8080/"
        },
        "id": "CWsUoK0l8QP8",
        "outputId": "d2576d46-3d9f-4d35-c8d0-47002291116a"
      },
      "execution_count": null,
      "outputs": [
        {
          "output_type": "stream",
          "name": "stdout",
          "text": [
            "DFS Path: ['A', 'B', 'E', 'F']\n"
          ]
        }
      ]
    },
    {
      "cell_type": "markdown",
      "source": [
        "**UCS**"
      ],
      "metadata": {
        "id": "HXCtG0f58kcD"
      }
    },
    {
      "cell_type": "code",
      "source": [
        "import heapq\n",
        "\n",
        "def ucs(graph, start, goal):\n",
        "    frontier = []\n",
        "    heapq.heappush(frontier, (0, start, [start]))  # (cost, node, path)\n",
        "    visited = set()\n",
        "\n",
        "    while frontier:\n",
        "        cost, node, path = heapq.heappop(frontier)\n",
        "\n",
        "        if node == goal:\n",
        "            return path\n",
        "\n",
        "        if node not in visited:\n",
        "            visited.add(node)\n",
        "            for neighbor, edge_cost in graph[node]:\n",
        "                heapq.heappush(frontier, (cost + edge_cost, neighbor, path + [neighbor]))\n",
        "\n",
        "    return None\n",
        "\n",
        "# Example graph with edge costs (node: [(neighbor, cost), ...])\n",
        "graph = {\n",
        "    'A': [('B', 1), ('C', 4)],\n",
        "    'B': [('A', 1), ('D', 2), ('E', 5)],\n",
        "    'C': [('A', 4), ('F', 3)],\n",
        "    'D': [('B', 2)],\n",
        "    'E': [('B', 5), ('F', 1)],\n",
        "    'F': [('C', 3), ('E', 1)]\n",
        "}\n",
        "\n",
        "start, goal = 'A', 'F'\n",
        "path = ucs(graph, start, goal)\n",
        "print(\"UCS Path:\", path)\n"
      ],
      "metadata": {
        "colab": {
          "base_uri": "https://localhost:8080/"
        },
        "id": "GIvdJoON8g56",
        "outputId": "be5f5be7-d4a8-40c7-8f00-99243ff0a8d5"
      },
      "execution_count": null,
      "outputs": [
        {
          "output_type": "stream",
          "name": "stdout",
          "text": [
            "UCS Path: ['A', 'B', 'E', 'F']\n"
          ]
        }
      ]
    }
  ]
}