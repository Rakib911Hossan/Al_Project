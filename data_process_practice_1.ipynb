{
  "nbformat": 4,
  "nbformat_minor": 0,
  "metadata": {
    "colab": {
      "provenance": [],
      "authorship_tag": "ABX9TyMTVzCVbMY0d1p20VSOgjwP",
      "include_colab_link": true
    },
    "kernelspec": {
      "name": "python3",
      "display_name": "Python 3"
    },
    "language_info": {
      "name": "python"
    }
  },
  "cells": [
    {
      "cell_type": "markdown",
      "metadata": {
        "id": "view-in-github",
        "colab_type": "text"
      },
      "source": [
        "<a href=\"https://colab.research.google.com/github/Rakib911Hossan/Al_Project/blob/main/data_process_practice_1.ipynb\" target=\"_parent\"><img src=\"https://colab.research.google.com/assets/colab-badge.svg\" alt=\"Open In Colab\"/></a>"
      ]
    },
    {
      "cell_type": "code",
      "execution_count": 2,
      "metadata": {
        "colab": {
          "base_uri": "https://localhost:8080/"
        },
        "id": "tNMX4XfnV5wW",
        "outputId": "2ea727d2-cb2c-4534-d207-805e1176a87f"
      },
      "outputs": [
        {
          "output_type": "stream",
          "name": "stdout",
          "text": [
            "Standardized Data:\n",
            " [[-0.35366814 -0.81537425 -0.72400784]\n",
            " [ 1.36266253 -0.59299945 -0.69006997]\n",
            " [-1.00899439  1.4083737   1.41407782]]\n"
          ]
        }
      ],
      "source": [
        "import numpy as np\n",
        "from sklearn import preprocessing\n",
        "\n",
        "data = np.array([[12, -9, 0.5],\n",
        "                 [34, -7, 1],\n",
        "                 [3.6, 11, 32]])\n",
        "\n",
        "scaler = preprocessing.StandardScaler()\n",
        "standardized_data = scaler.fit_transform(data)\n",
        "print(\"Standardized Data:\\n\", standardized_data)\n"
      ]
    },
    {
      "cell_type": "code",
      "source": [
        "robust_scaler = preprocessing.RobustScaler()\n",
        "robust_scaled_data = robust_scaler.fit_transform(data)\n",
        "print(\"Robust Scaled Data:\\n\", robust_scaled_data)\n"
      ],
      "metadata": {
        "colab": {
          "base_uri": "https://localhost:8080/"
        },
        "id": "EtTtO0IqWETZ",
        "outputId": "bf9974dd-fdec-4aa3-ff67-041057e163bc"
      },
      "execution_count": 3,
      "outputs": [
        {
          "output_type": "stream",
          "name": "stdout",
          "text": [
            "Robust Scaled Data:\n",
            " [[ 0.         -0.2        -0.03174603]\n",
            " [ 1.44736842  0.          0.        ]\n",
            " [-0.55263158  1.8         1.96825397]]\n"
          ]
        }
      ]
    }
  ]
}