{
  "nbformat": 4,
  "nbformat_minor": 0,
  "metadata": {
    "colab": {
      "provenance": [],
      "authorship_tag": "ABX9TyMrLalNo1pITvG2xLTSA9zQ",
      "include_colab_link": true
    },
    "kernelspec": {
      "name": "python3",
      "display_name": "Python 3"
    },
    "language_info": {
      "name": "python"
    }
  },
  "cells": [
    {
      "cell_type": "markdown",
      "metadata": {
        "id": "view-in-github",
        "colab_type": "text"
      },
      "source": [
        "<a href=\"https://colab.research.google.com/github/Rakib911Hossan/Al_Project/blob/main/BestFS.ipynb\" target=\"_parent\"><img src=\"https://colab.research.google.com/assets/colab-badge.svg\" alt=\"Open In Colab\"/></a>"
      ]
    },
    {
      "cell_type": "code",
      "execution_count": 2,
      "metadata": {
        "colab": {
          "base_uri": "https://localhost:8080/"
        },
        "id": "tmw9tXFqWyk8",
        "outputId": "73cbbbef-e551-4ebb-a1ed-bfe8922485ca"
      },
      "outputs": [
        {
          "output_type": "stream",
          "name": "stdout",
          "text": [
            "Visiting: A\n",
            "Visiting: B\n",
            "Visiting: C\n",
            "Visiting: D\n",
            "Visiting: F\n",
            "Visiting: G\n",
            "Visiting: H\n",
            "Goal reached!\n",
            "Path: ['A', 'B', 'D', 'H']\n"
          ]
        }
      ],
      "source": [
        "from collections import deque\n",
        "\n",
        "SuccList = {\n",
        "    'A': [['B', 3], ['C', 2]],\n",
        "    'B': [['A', 5], ['C', 2], ['D', 2], ['F', 3]],\n",
        "    'C': [['A', 5], ['B', 3], ['F', 2], ['G', 4]],\n",
        "    'D': [['H', 1], ['I', 99]],\n",
        "    'F': [['J', 99]],\n",
        "    'G': [['K', 99], ['L', 3]],\n",
        "}\n",
        "\n",
        "Start = {'A'}\n",
        "Goal = {'H'}\n",
        "\n",
        "# ✔️ 1. Goal Test\n",
        "def goalstate(n):\n",
        "    return n in Goal\n",
        "\n",
        "# ✔️ 2. Move Generator\n",
        "def movegen(n):\n",
        "    return [child[0] for child in SuccList.get(n, [])]\n",
        "\n",
        "# ✔️ 3. Append for BFS (queue-like behavior)\n",
        "def append(list1, list2):\n",
        "    return list1 + list2\n",
        "\n",
        "# ✔️ 4. Sort (BFS doesn't need it, so pass-through)\n",
        "def sort(l):\n",
        "    return l\n",
        "\n",
        "# ✔️ 5. BFS using above functions\n",
        "def bfs(start_set):\n",
        "    visited = set()\n",
        "    queue = [[node] for node in start_set]  # queue of paths\n",
        "\n",
        "    while queue:\n",
        "        queue = sort(queue)\n",
        "        path = queue.pop(0)\n",
        "        node = path[-1]\n",
        "\n",
        "        if node in visited:\n",
        "            continue\n",
        "\n",
        "        visited.add(node)\n",
        "        print(f\"Visiting: {node}\")\n",
        "\n",
        "        if goalstate(node):\n",
        "            print(\"Goal reached!\")\n",
        "            return path\n",
        "\n",
        "        children = movegen(node)\n",
        "        new_paths = [path + [child] for child in children if child not in visited]\n",
        "        queue = append(queue, new_paths)\n",
        "\n",
        "    print(\"Goal not reachable\")\n",
        "    return None\n",
        "\n",
        "# 🔍 Run\n",
        "path = bfs(Start)\n",
        "print(\"Path:\", path)\n"
      ]
    },
    {
      "cell_type": "code",
      "source": [],
      "metadata": {
        "id": "8wu2UoO5gsF1"
      },
      "execution_count": null,
      "outputs": []
    }
  ]
}