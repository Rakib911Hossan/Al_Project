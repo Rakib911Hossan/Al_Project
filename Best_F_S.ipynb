{
  "nbformat": 4,
  "nbformat_minor": 0,
  "metadata": {
    "colab": {
      "provenance": [],
      "authorship_tag": "ABX9TyPt4A6xUk70UsXg07y3rpu8",
      "include_colab_link": true
    },
    "kernelspec": {
      "name": "python3",
      "display_name": "Python 3"
    },
    "language_info": {
      "name": "python"
    }
  },
  "cells": [
    {
      "cell_type": "markdown",
      "metadata": {
        "id": "view-in-github",
        "colab_type": "text"
      },
      "source": [
        "<a href=\"https://colab.research.google.com/github/Rakib911Hossan/Al_Project/blob/main/Best_F_S.ipynb\" target=\"_parent\"><img src=\"https://colab.research.google.com/assets/colab-badge.svg\" alt=\"Open In Colab\"/></a>"
      ]
    },
    {
      "cell_type": "code",
      "execution_count": null,
      "metadata": {
        "colab": {
          "base_uri": "https://localhost:8080/"
        },
        "id": "l5_ZA-97YzE2",
        "outputId": "0217210d-5745-4315-b788-c97444d960d4"
      },
      "outputs": [
        {
          "output_type": "stream",
          "name": "stdout",
          "text": [
            "------------\n",
            "N= ['A', 5]\n",
            "CLOSED= [['A', 5]]\n",
            "CHILD= [['B', 3], ['C', 2]]\n",
            "Unsorted OPEN= [['B', 3], ['C', 2]]\n",
            "Sorted OPEN= [['C', 2], ['B', 3]]\n",
            "------------\n",
            "N= ['C', 2]\n",
            "CLOSED= [['A', 5], ['C', 2]]\n",
            "CHILD= [['A', 5], ['B', 3], ['F', 2], ['G', 4]]\n",
            "Unsorted OPEN= [['F', 2], ['G', 4], ['B', 3]]\n",
            "Sorted OPEN= [['F', 2], ['B', 3], ['G', 4]]\n",
            "------------\n",
            "N= ['F', 2]\n",
            "CLOSED= [['A', 5], ['C', 2], ['F', 2]]\n",
            "CHILD= [['J', 99]]\n",
            "Unsorted OPEN= [['J', 99], ['B', 3], ['G', 4]]\n",
            "Sorted OPEN= [['B', 3], ['G', 4], ['J', 99]]\n",
            "------------\n",
            "N= ['B', 3]\n",
            "CLOSED= [['A', 5], ['C', 2], ['F', 2], ['B', 3]]\n",
            "CHILD= [['A', 5], ['C', 2], ['D', 2], ['E', 3]]\n",
            "Unsorted OPEN= [['D', 2], ['E', 3], ['G', 4], ['J', 99]]\n",
            "Sorted OPEN= [['D', 2], ['E', 3], ['G', 4], ['J', 99]]\n",
            "------------\n",
            "N= ['D', 2]\n",
            "CLOSED= [['A', 5], ['C', 2], ['F', 2], ['B', 3], ['D', 2]]\n",
            "CHILD= [['H', 1], ['I', 99]]\n",
            "Unsorted OPEN= [['H', 1], ['I', 99], ['E', 3], ['G', 4], ['J', 99]]\n",
            "Sorted OPEN= [['H', 1], ['E', 3], ['G', 4], ['I', 99], ['J', 99]]\n",
            "------------\n",
            "N= ['H', 1]\n",
            "CLOSED= [['A', 5], ['C', 2], ['F', 2], ['B', 3], ['D', 2], ['H', 1]]\n",
            "CHILD= []\n",
            "Unsorted OPEN= [['E', 3], ['G', 4], ['I', 99], ['J', 99]]\n",
            "Sorted OPEN= [['E', 3], ['G', 4], ['I', 99], ['J', 99]]\n",
            "------------\n",
            "N= ['E', 3]\n",
            "CLOSED= [['A', 5], ['C', 2], ['F', 2], ['B', 3], ['D', 2], ['H', 1], ['E', 3]]\n",
            "[['A', 5], ['C', 2], ['F', 2], ['B', 3], ['D', 2], ['H', 1], ['E', 3]] True\n"
          ]
        }
      ],
      "source": [
        "SuccList ={ 'A':[['B',3],['C',2]], 'B':[['A',5],['C',2],['D',2],['E',3]],\n",
        "           'C':[['A',5],['B',3],['F',2],['G',4]], 'D':[['H',1],['I',99]],'F': [['J',99]],'G':[['K',99],['L',3]]}\n",
        "Start='A'\n",
        "Goal='E'\n",
        "Closed = list()\n",
        "SUCCESS=True\n",
        "FAILURE=False\n",
        "State=FAILURE\n",
        "\n",
        "def MOVEGEN(N):\n",
        "\tNew_list=list()\n",
        "\tif N in SuccList.keys():\n",
        "\t\tNew_list=SuccList[N]\n",
        "\n",
        "\treturn New_list\n",
        "\n",
        "def GOALTEST(N):\n",
        "\tif N == Goal:\n",
        "\t\treturn True\n",
        "\telse:\n",
        "\t\treturn False\n",
        "\n",
        "def APPEND(L1,L2):\n",
        "\tNew_list=list(L1)+list(L2)\n",
        "\treturn New_list\n",
        "\n",
        "def SORT(L):\n",
        "\tL.sort(key = lambda x: x[1])\n",
        "\treturn L\n",
        "\n",
        "def BestFirstSearch():\n",
        "\tOPEN=[[Start,5]]\n",
        "\tCLOSED=list()\n",
        "\tglobal State\n",
        "\tglobal Closed\n",
        "\twhile (len(OPEN) != 0) and (State != SUCCESS):\n",
        "\t\tprint(\"------------\")\n",
        "\t\tN= OPEN[0]\n",
        "\t\tprint(\"N=\",N)\n",
        "\t\tdel OPEN[0] #delete the node we picked\n",
        "\n",
        "\t\tif GOALTEST(N[0])==True:\n",
        "\t\t\tState = SUCCESS\n",
        "\t\t\tCLOSED = APPEND(CLOSED,[N])\n",
        "\t\t\tprint(\"CLOSED=\",CLOSED)\n",
        "\t\telse:\n",
        "\t\t\tCLOSED = APPEND(CLOSED,[N])\n",
        "\t\t\tprint(\"CLOSED=\",CLOSED)\n",
        "\t\t\tCHILD = MOVEGEN(N[0])\n",
        "\t\t\tprint(\"CHILD=\",CHILD)\n",
        "\t\t\tfor val in CLOSED:\n",
        "\t\t\t\tif val in CHILD:\n",
        "\t\t\t\t\tCHILD.remove(val)\n",
        "\t\t\tfor val in OPEN:\n",
        "\t\t\t\tif val in CHILD:\n",
        "\t\t\t\t\tCHILD.remove(val)\n",
        "\t\t\tOPEN = APPEND(CHILD,OPEN) #append movegen elements to OPEN\n",
        "\t\t\tprint(\"Unsorted OPEN=\",OPEN)\n",
        "\t\t\tSORT(OPEN)\n",
        "\t\t\tprint(\"Sorted OPEN=\",OPEN)\n",
        "\n",
        "\tClosed=CLOSED\n",
        "\treturn State\n",
        "\n",
        "#Driver Code\n",
        "result=BestFirstSearch() #call search algorithm\n",
        "print(Closed,result)"
      ]
    }
  ]
}