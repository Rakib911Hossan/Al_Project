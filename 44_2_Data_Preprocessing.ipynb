{
  "nbformat": 4,
  "nbformat_minor": 0,
  "metadata": {
    "colab": {
      "provenance": [],
      "include_colab_link": true
    },
    "kernelspec": {
      "name": "python3",
      "display_name": "Python 3"
    },
    "language_info": {
      "name": "python"
    }
  },
  "cells": [
    {
      "cell_type": "markdown",
      "metadata": {
        "id": "view-in-github",
        "colab_type": "text"
      },
      "source": [
        "<a href=\"https://colab.research.google.com/github/Rakib911Hossan/Al_Project/blob/main/44_2_Data_Preprocessing.ipynb\" target=\"_parent\"><img src=\"https://colab.research.google.com/assets/colab-badge.svg\" alt=\"Open In Colab\"/></a>"
      ]
    },
    {
      "cell_type": "code",
      "execution_count": null,
      "metadata": {
        "id": "GqwCcuTEJ1TT"
      },
      "outputs": [],
      "source": [
        "import numpy as n\n",
        "from sklearn import preprocessing\n",
        "data=n.array([[12,-9,0.5],\n",
        "                 [34,-7,1],\n",
        "                 [3.6,11,32]])\n"
      ]
    },
    {
      "cell_type": "code",
      "source": [
        "binary_data=preprocessing.Binarizer(threshold=10).transform(data)\n",
        "print(binary_data)"
      ],
      "metadata": {
        "colab": {
          "base_uri": "https://localhost:8080/"
        },
        "id": "gIZdU2KhK5DW",
        "outputId": "ee8832c7-eb24-4b52-e017-6f1039b60143"
      },
      "execution_count": null,
      "outputs": [
        {
          "output_type": "stream",
          "name": "stdout",
          "text": [
            "[[1. 0. 0.]\n",
            " [1. 0. 0.]\n",
            " [0. 1. 1.]]\n"
          ]
        }
      ]
    },
    {
      "cell_type": "code",
      "source": [
        "max_min_data=preprocessing.MinMaxScaler(feature_range=(10,12)).fit_transform(data)\n",
        "print(max_min_data)"
      ],
      "metadata": {
        "colab": {
          "base_uri": "https://localhost:8080/"
        },
        "id": "7f-wzneBLCOX",
        "outputId": "243cc06b-11ab-4d62-98e9-67a8be671193"
      },
      "execution_count": null,
      "outputs": [
        {
          "output_type": "stream",
          "name": "stdout",
          "text": [
            "[[10.55263158 10.         10.        ]\n",
            " [12.         10.2        10.03174603]\n",
            " [10.         12.         12.        ]]\n"
          ]
        }
      ]
    },
    {
      "cell_type": "code",
      "source": [
        "normalize_data=preprocessing.normalize(data,norm='l1')\n",
        "print(normalize_data)\n",
        "\n",
        "normalize_data=preprocessing.normalize(data,norm='l2')\n",
        "print(normalize_data)"
      ],
      "metadata": {
        "colab": {
          "base_uri": "https://localhost:8080/"
        },
        "id": "VFrfaWQtLKjk",
        "outputId": "6afe7247-a2c4-4c59-f40c-a5c6b613b0ad"
      },
      "execution_count": null,
      "outputs": [
        {
          "output_type": "stream",
          "name": "stdout",
          "text": [
            "[[ 0.55813953 -0.41860465  0.02325581]\n",
            " [ 0.80952381 -0.16666667  0.02380952]\n",
            " [ 0.07725322  0.2360515   0.68669528]]\n",
            "[[ 0.79955593 -0.59966694  0.03331483]\n",
            " [ 0.97905088 -0.2015693   0.02879561]\n",
            " [ 0.10579271  0.32325549  0.9403796 ]]\n"
          ]
        }
      ]
    }
  ]
}