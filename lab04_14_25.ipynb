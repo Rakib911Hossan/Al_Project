{
  "nbformat": 4,
  "nbformat_minor": 0,
  "metadata": {
    "colab": {
      "provenance": [],
      "authorship_tag": "ABX9TyNnJJPQeIqd8+Bnogh8IfiB",
      "include_colab_link": true
    },
    "kernelspec": {
      "name": "python3",
      "display_name": "Python 3"
    },
    "language_info": {
      "name": "python"
    }
  },
  "cells": [
    {
      "cell_type": "markdown",
      "metadata": {
        "id": "view-in-github",
        "colab_type": "text"
      },
      "source": [
        "<a href=\"https://colab.research.google.com/github/Rakib911Hossan/Al_Project/blob/main/lab04_14_25.ipynb\" target=\"_parent\"><img src=\"https://colab.research.google.com/assets/colab-badge.svg\" alt=\"Open In Colab\"/></a>"
      ]
    },
    {
      "cell_type": "code",
      "execution_count": null,
      "metadata": {
        "colab": {
          "base_uri": "https://localhost:8080/"
        },
        "id": "nDUyuSWQ3BSb",
        "outputId": "438dd954-ee1a-4996-9584-14f12af407e8"
      },
      "outputs": [
        {
          "output_type": "stream",
          "name": "stdout",
          "text": [
            "none\n",
            "['cat', 'description']\n",
            "['leg', 'none']\n"
          ]
        },
        {
          "output_type": "execute_result",
          "data": {
            "text/plain": [
              "False"
            ]
          },
          "metadata": {},
          "execution_count": 14
        }
      ],
      "source": [
        "box = {\"cat\" : \"leg\", \"description\" : \"none\"}\n",
        "\n",
        "print(box[\"description\"])\n",
        "\n",
        "key = list(box.keys())\n",
        "print(key)\n",
        "\n",
        "value = list(box.values())\n",
        "print(value)\n",
        "\n",
        "\"leg\" in box\n",
        "# box == \"description\""
      ]
    },
    {
      "cell_type": "code",
      "source": [
        "def sums(n):\n",
        "  sum = 0\n",
        "  for i in range(1,n,2):\n",
        "    sum += i\n",
        "  return sum\n",
        "\n",
        "n = int(input(\"Enter a number: \"))\n",
        "print(sums(n))"
      ],
      "metadata": {
        "id": "rQsxJAN05e7Z",
        "colab": {
          "base_uri": "https://localhost:8080/"
        },
        "outputId": "9ce2e87f-e0f4-4ac9-937d-8c56bcb7ca81"
      },
      "execution_count": 34,
      "outputs": [
        {
          "output_type": "stream",
          "name": "stdout",
          "text": [
            "Enter a number: 10\n",
            "25\n"
          ]
        }
      ]
    },
    {
      "cell_type": "code",
      "source": [
        "lst = [1,2,4,5,7,10]\n",
        "print(lst)\n",
        "lst[0],lst[-1] = lst[-1],lst[0]\n",
        "print(lst)"
      ],
      "metadata": {
        "colab": {
          "base_uri": "https://localhost:8080/"
        },
        "id": "XfpT4cwD7UcX",
        "outputId": "0325c920-f128-44f4-dd0c-c0d255cdb4d1"
      },
      "execution_count": null,
      "outputs": [
        {
          "output_type": "stream",
          "name": "stdout",
          "text": [
            "[1, 2, 4, 5, 7, 10]\n",
            "[10, 2, 4, 5, 7, 1]\n"
          ]
        }
      ]
    },
    {
      "cell_type": "code",
      "source": [
        "birthdays = {'Alice': 'Apr 1', 'Bob': 'Dec 12', 'Carol': 'Mar 4'}\n",
        "\n",
        "while True:\n",
        "    print('Enter a name: (blank to quit)')\n",
        "    name = input()\n",
        "    if name == '':\n",
        "        break\n",
        "\n",
        "    if name in birthdays:\n",
        "      print(birthdays[name] + ' is the birthday of ' + name)\n",
        "    else:\n",
        "      print('I do not have birthday information for ' + name)\n",
        "      print('What is their birthday?')\n",
        "      bday = input()\n",
        "      birthdays[name] = bday\n",
        "      print('Birthday database updated.')"
      ],
      "metadata": {
        "id": "BR3-ubC18A3z",
        "colab": {
          "base_uri": "https://localhost:8080/"
        },
        "outputId": "4b7643ff-2cf0-440a-9e97-54d63994a28b"
      },
      "execution_count": 33,
      "outputs": [
        {
          "name": "stdout",
          "output_type": "stream",
          "text": [
            "Enter a name: (blank to quit)\n",
            "rakib\n",
            "I do not have birthday information for rakib\n",
            "What is their birthday?\n",
            "11 sep\n",
            "Birthday database updated.\n",
            "Enter a name: (blank to quit)\n",
            "rakib\n",
            "11 sep is the birthday of rakib\n",
            "Enter a name: (blank to quit)\n",
            "\n"
          ]
        }
      ]
    },
    {
      "cell_type": "code",
      "source": [
        "x = lambda n: sum([i for i in range(1,n,2)])\n",
        "print(x(int(input(\"Enter a number: \"))))\n",
        "#   sum = 0\n",
        "#   for i in range(1,n,2):\n",
        "#     sum += i\n",
        "#   return sum\n",
        "\n",
        "# n = int(input(\"Enter a number: \"))\n",
        "# print(sums(n))"
      ],
      "metadata": {
        "id": "6rfNp27CGKbU",
        "colab": {
          "base_uri": "https://localhost:8080/"
        },
        "outputId": "8dc82638-a583-4aa6-9956-67920d63df20"
      },
      "execution_count": 32,
      "outputs": [
        {
          "output_type": "stream",
          "name": "stdout",
          "text": [
            "Enter a number: 10\n",
            "25\n"
          ]
        }
      ]
    }
  ]
}