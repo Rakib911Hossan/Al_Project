{
  "nbformat": 4,
  "nbformat_minor": 0,
  "metadata": {
    "colab": {
      "provenance": [],
      "authorship_tag": "ABX9TyMOo1DNwV7R6zSpWyARhLwd",
      "include_colab_link": true
    },
    "kernelspec": {
      "name": "python3",
      "display_name": "Python 3"
    },
    "language_info": {
      "name": "python"
    }
  },
  "cells": [
    {
      "cell_type": "markdown",
      "metadata": {
        "id": "view-in-github",
        "colab_type": "text"
      },
      "source": [
        "<a href=\"https://colab.research.google.com/github/Rakib911Hossan/Al_Project/blob/main/lab04_14_25.ipynb\" target=\"_parent\"><img src=\"https://colab.research.google.com/assets/colab-badge.svg\" alt=\"Open In Colab\"/></a>"
      ]
    },
    {
      "cell_type": "code",
      "execution_count": 6,
      "metadata": {
        "colab": {
          "base_uri": "https://localhost:8080/"
        },
        "id": "nDUyuSWQ3BSb",
        "outputId": "e56da670-8c2c-4961-8cb5-3d7b40176159"
      },
      "outputs": [
        {
          "output_type": "stream",
          "name": "stdout",
          "text": [
            "none\n",
            "['cat', 'description']\n",
            "['leg', 'none']\n"
          ]
        }
      ],
      "source": [
        "box = {\"cat\" : \"leg\", \"description\" : \"none\"}\n",
        "\n",
        "print(box[\"description\"])\n",
        "\n",
        "key = list(box.keys())\n",
        "print(key)\n",
        "\n",
        "value = list(box.values())\n",
        "print(value)"
      ]
    }
  ]
}