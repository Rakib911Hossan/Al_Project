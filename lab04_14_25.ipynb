{
  "nbformat": 4,
  "nbformat_minor": 0,
  "metadata": {
    "colab": {
      "provenance": [],
      "authorship_tag": "ABX9TyPPfc7eQhj9hNGbIyNUxvHF",
      "include_colab_link": true
    },
    "kernelspec": {
      "name": "python3",
      "display_name": "Python 3"
    },
    "language_info": {
      "name": "python"
    }
  },
  "cells": [
    {
      "cell_type": "markdown",
      "metadata": {
        "id": "view-in-github",
        "colab_type": "text"
      },
      "source": [
        "<a href=\"https://colab.research.google.com/github/Rakib911Hossan/Al_Project/blob/main/lab04_14_25.ipynb\" target=\"_parent\"><img src=\"https://colab.research.google.com/assets/colab-badge.svg\" alt=\"Open In Colab\"/></a>"
      ]
    },
    {
      "cell_type": "code",
      "execution_count": 14,
      "metadata": {
        "colab": {
          "base_uri": "https://localhost:8080/"
        },
        "id": "nDUyuSWQ3BSb",
        "outputId": "438dd954-ee1a-4996-9584-14f12af407e8"
      },
      "outputs": [
        {
          "output_type": "stream",
          "name": "stdout",
          "text": [
            "none\n",
            "['cat', 'description']\n",
            "['leg', 'none']\n"
          ]
        },
        {
          "output_type": "execute_result",
          "data": {
            "text/plain": [
              "False"
            ]
          },
          "metadata": {},
          "execution_count": 14
        }
      ],
      "source": [
        "box = {\"cat\" : \"leg\", \"description\" : \"none\"}\n",
        "\n",
        "print(box[\"description\"])\n",
        "\n",
        "key = list(box.keys())\n",
        "print(key)\n",
        "\n",
        "value = list(box.values())\n",
        "print(value)\n",
        "\n",
        "\"leg\" in box\n",
        "# box == \"description\""
      ]
    },
    {
      "cell_type": "code",
      "source": [
        "def sums(n):\n",
        "  try:\n",
        "    sum = 0\n",
        "    for i in range(1,n,2):\n",
        "      sum += i\n",
        "    return sum\n",
        "  except Exception as e:\n",
        "    print(e)\n",
        "  finally:\n",
        "    print(\"Error\")\n",
        "\n",
        "n = int(input(\"Enter a number: \"))\n",
        "print(sums(n))"
      ],
      "metadata": {
        "colab": {
          "base_uri": "https://localhost:8080/",
          "height": 211
        },
        "id": "rQsxJAN05e7Z",
        "outputId": "02edf01f-0211-4979-ba22-0148f11118d8"
      },
      "execution_count": 27,
      "outputs": [
        {
          "name": "stdout",
          "output_type": "stream",
          "text": [
            "Enter a number: fghd\n"
          ]
        },
        {
          "output_type": "error",
          "ename": "ValueError",
          "evalue": "invalid literal for int() with base 10: 'fghd'",
          "traceback": [
            "\u001b[0;31m---------------------------------------------------------------------------\u001b[0m",
            "\u001b[0;31mValueError\u001b[0m                                Traceback (most recent call last)",
            "\u001b[0;32m<ipython-input-27-3585076312e2>\u001b[0m in \u001b[0;36m<cell line: 0>\u001b[0;34m()\u001b[0m\n\u001b[1;32m     10\u001b[0m     \u001b[0mprint\u001b[0m\u001b[0;34m(\u001b[0m\u001b[0;34m\"Error\"\u001b[0m\u001b[0;34m)\u001b[0m\u001b[0;34m\u001b[0m\u001b[0;34m\u001b[0m\u001b[0m\n\u001b[1;32m     11\u001b[0m \u001b[0;34m\u001b[0m\u001b[0m\n\u001b[0;32m---> 12\u001b[0;31m \u001b[0mn\u001b[0m \u001b[0;34m=\u001b[0m \u001b[0mint\u001b[0m\u001b[0;34m(\u001b[0m\u001b[0minput\u001b[0m\u001b[0;34m(\u001b[0m\u001b[0;34m\"Enter a number: \"\u001b[0m\u001b[0;34m)\u001b[0m\u001b[0;34m)\u001b[0m\u001b[0;34m\u001b[0m\u001b[0;34m\u001b[0m\u001b[0m\n\u001b[0m\u001b[1;32m     13\u001b[0m \u001b[0mprint\u001b[0m\u001b[0;34m(\u001b[0m\u001b[0msums\u001b[0m\u001b[0;34m(\u001b[0m\u001b[0mn\u001b[0m\u001b[0;34m)\u001b[0m\u001b[0;34m)\u001b[0m\u001b[0;34m\u001b[0m\u001b[0;34m\u001b[0m\u001b[0m\n",
            "\u001b[0;31mValueError\u001b[0m: invalid literal for int() with base 10: 'fghd'"
          ]
        }
      ]
    },
    {
      "cell_type": "code",
      "source": [
        "lst = [1,2,4,5,7,10]\n",
        "print(lst)\n",
        "lst[0],lst[-1] = lst[-1],lst[0]\n",
        "print(lst)"
      ],
      "metadata": {
        "colab": {
          "base_uri": "https://localhost:8080/"
        },
        "id": "XfpT4cwD7UcX",
        "outputId": "0325c920-f128-44f4-dd0c-c0d255cdb4d1"
      },
      "execution_count": 23,
      "outputs": [
        {
          "output_type": "stream",
          "name": "stdout",
          "text": [
            "[1, 2, 4, 5, 7, 10]\n",
            "[10, 2, 4, 5, 7, 1]\n"
          ]
        }
      ]
    },
    {
      "cell_type": "code",
      "source": [
        "birthdays = {'Alice': 'Apr 1', 'Bob': 'Dec 12', 'Carol': 'Mar 4'}\n",
        "\n",
        "while True:\n",
        "    print('Enter a name: (blank to quit)')\n",
        "    name = input()\n",
        "    if name == '':\n",
        "        break\n",
        "\n",
        "    if name in birthdays:\n",
        "      print(birthdays[name] + ' is the birthday of ' + name)\n",
        "    else:\n",
        "      print('I do not have birthday information for ' + name)\n",
        "      print('What is their birthday?')\n",
        "      bday = input()\n",
        "      birthdays[name] = bday\n",
        "      print('Birthday database updated.')"
      ],
      "metadata": {
        "colab": {
          "base_uri": "https://localhost:8080/"
        },
        "id": "BR3-ubC18A3z",
        "outputId": "a5720805-3b89-477a-debc-52c592b00a8c"
      },
      "execution_count": 28,
      "outputs": [
        {
          "name": "stdout",
          "output_type": "stream",
          "text": [
            "Enter a name: (blank to quit)\n",
            "rakib\n",
            "I do not have birthday information for rakib\n",
            "What is their birthday?\n",
            "11 sep\n",
            "Birthday database updated.\n",
            "Enter a name: (blank to quit)\n",
            "rakib\n",
            "11 sep is the birthday of rakib\n",
            "Enter a name: (blank to quit)\n",
            "\n"
          ]
        }
      ]
    }
  ]
}