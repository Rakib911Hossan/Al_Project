{
  "nbformat": 4,
  "nbformat_minor": 0,
  "metadata": {
    "colab": {
      "provenance": [],
      "authorship_tag": "ABX9TyOs5Xjlodx9poakVEsU/bws",
      "include_colab_link": true
    },
    "kernelspec": {
      "name": "python3",
      "display_name": "Python 3"
    },
    "language_info": {
      "name": "python"
    }
  },
  "cells": [
    {
      "cell_type": "markdown",
      "metadata": {
        "id": "view-in-github",
        "colab_type": "text"
      },
      "source": [
        "<a href=\"https://colab.research.google.com/github/Rakib911Hossan/Al_Project/blob/main/lab04_14_25.ipynb\" target=\"_parent\"><img src=\"https://colab.research.google.com/assets/colab-badge.svg\" alt=\"Open In Colab\"/></a>"
      ]
    },
    {
      "cell_type": "code",
      "execution_count": 14,
      "metadata": {
        "colab": {
          "base_uri": "https://localhost:8080/"
        },
        "id": "nDUyuSWQ3BSb",
        "outputId": "438dd954-ee1a-4996-9584-14f12af407e8"
      },
      "outputs": [
        {
          "output_type": "stream",
          "name": "stdout",
          "text": [
            "none\n",
            "['cat', 'description']\n",
            "['leg', 'none']\n"
          ]
        },
        {
          "output_type": "execute_result",
          "data": {
            "text/plain": [
              "False"
            ]
          },
          "metadata": {},
          "execution_count": 14
        }
      ],
      "source": [
        "box = {\"cat\" : \"leg\", \"description\" : \"none\"}\n",
        "\n",
        "print(box[\"description\"])\n",
        "\n",
        "key = list(box.keys())\n",
        "print(key)\n",
        "\n",
        "value = list(box.values())\n",
        "print(value)\n",
        "\n",
        "\"leg\" in box\n",
        "# box == \"description\""
      ]
    },
    {
      "cell_type": "code",
      "source": [
        "def sums(n):\n",
        "  sum = 0\n",
        "  for i in range(1,n,2):\n",
        "    sum += i\n",
        "  return sum\n",
        "\n",
        "n = int(input(\"Enter a number: \"))\n",
        "print(sums(n))"
      ],
      "metadata": {
        "colab": {
          "base_uri": "https://localhost:8080/"
        },
        "id": "rQsxJAN05e7Z",
        "outputId": "2cb3667e-3e62-4bee-816f-48a448a3eb9b"
      },
      "execution_count": 22,
      "outputs": [
        {
          "output_type": "stream",
          "name": "stdout",
          "text": [
            "Enter a number: 10\n",
            "25\n"
          ]
        }
      ]
    },
    {
      "cell_type": "code",
      "source": [
        "lst = [1,2,4,5,7,10]\n",
        "print(lst)\n",
        "lst[0],lst[-1] = lst[-1],lst[0]\n",
        "print(lst)"
      ],
      "metadata": {
        "colab": {
          "base_uri": "https://localhost:8080/"
        },
        "id": "XfpT4cwD7UcX",
        "outputId": "0325c920-f128-44f4-dd0c-c0d255cdb4d1"
      },
      "execution_count": 23,
      "outputs": [
        {
          "output_type": "stream",
          "name": "stdout",
          "text": [
            "[1, 2, 4, 5, 7, 10]\n",
            "[10, 2, 4, 5, 7, 1]\n"
          ]
        }
      ]
    },
    {
      "cell_type": "code",
      "source": [],
      "metadata": {
        "id": "BR3-ubC18A3z"
      },
      "execution_count": null,
      "outputs": []
    }
  ]
}