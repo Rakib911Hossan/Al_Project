{
  "nbformat": 4,
  "nbformat_minor": 0,
  "metadata": {
    "colab": {
      "provenance": [],
      "authorship_tag": "ABX9TyMjz3aTBAUngcDLzMlkaAJb",
      "include_colab_link": true
    },
    "kernelspec": {
      "name": "python3",
      "display_name": "Python 3"
    },
    "language_info": {
      "name": "python"
    }
  },
  "cells": [
    {
      "cell_type": "markdown",
      "metadata": {
        "id": "view-in-github",
        "colab_type": "text"
      },
      "source": [
        "<a href=\"https://colab.research.google.com/github/Rakib911Hossan/Al_Project/blob/main/Lab_3_07_25.ipynb\" target=\"_parent\"><img src=\"https://colab.research.google.com/assets/colab-badge.svg\" alt=\"Open In Colab\"/></a>"
      ]
    },
    {
      "cell_type": "code",
      "execution_count": 14,
      "metadata": {
        "colab": {
          "base_uri": "https://localhost:8080/"
        },
        "id": "VCkwkDtcyCSn",
        "outputId": "caaf50d0-9d17-4672-f1b3-cb9692132281"
      },
      "outputs": [
        {
          "output_type": "stream",
          "name": "stdout",
          "text": [
            "sum: 16\n"
          ]
        }
      ],
      "source": [
        "spam = 1\n",
        "sum = 0\n",
        "while spam <= 10:\n",
        "  spam = spam + 1\n",
        "  if spam % 2 == 0:\n",
        "    if(spam >= 5 and spam <= 8):\n",
        "      continue\n",
        "    sum += spam\n",
        "print(\"sum:\", sum)"
      ]
    },
    {
      "cell_type": "code",
      "source": [
        "\n",
        "sum = 0\n",
        "for number in range(0,11,2):\n",
        "    if 5 <= number <= 8:\n",
        "      continue\n",
        "    sum += number\n",
        "print(\"sum:\", sum)\n"
      ],
      "metadata": {
        "colab": {
          "base_uri": "https://localhost:8080/"
        },
        "id": "_we3f4Xy1hzz",
        "outputId": "f9d5cac8-4836-4d3a-a439-f56c824f5d71"
      },
      "execution_count": 29,
      "outputs": [
        {
          "output_type": "stream",
          "name": "stdout",
          "text": [
            "sum: 16\n"
          ]
        }
      ]
    },
    {
      "cell_type": "code",
      "source": [
        "def hello():\n",
        "  print(\"hello world\")\n",
        "hello()"
      ],
      "metadata": {
        "colab": {
          "base_uri": "https://localhost:8080/"
        },
        "id": "X4a23EPa4LUY",
        "outputId": "69127b81-3b2c-4aea-bd29-775e067137cd"
      },
      "execution_count": 31,
      "outputs": [
        {
          "output_type": "stream",
          "name": "stdout",
          "text": [
            "hello world\n"
          ]
        }
      ]
    },
    {
      "cell_type": "code",
      "source": [
        "def oddSum(i):\n",
        "  sum = 0\n",
        "  for number in range(0,i,2):\n",
        "    if 5 <= number <= 8:\n",
        "      continue\n",
        "    sum += number\n",
        "  print(\"sum:\", sum)\n",
        "\n",
        "n = int(input(\"enter number: \"))\n",
        "oddSum(n)"
      ],
      "metadata": {
        "colab": {
          "base_uri": "https://localhost:8080/"
        },
        "id": "XWW_nASf4ujI",
        "outputId": "4177959a-b1dd-4780-a40f-f9a98931db8c"
      },
      "execution_count": 32,
      "outputs": [
        {
          "output_type": "stream",
          "name": "stdout",
          "text": [
            "enter number: 11\n",
            "sum: 16\n"
          ]
        }
      ]
    }
  ]
}