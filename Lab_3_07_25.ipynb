{
  "nbformat": 4,
  "nbformat_minor": 0,
  "metadata": {
    "colab": {
      "provenance": [],
      "authorship_tag": "ABX9TyO3QP+aNMUMSslH4UehkT77",
      "include_colab_link": true
    },
    "kernelspec": {
      "name": "python3",
      "display_name": "Python 3"
    },
    "language_info": {
      "name": "python"
    }
  },
  "cells": [
    {
      "cell_type": "markdown",
      "metadata": {
        "id": "view-in-github",
        "colab_type": "text"
      },
      "source": [
        "<a href=\"https://colab.research.google.com/github/Rakib911Hossan/Al_Project/blob/main/Lab_3_07_25.ipynb\" target=\"_parent\"><img src=\"https://colab.research.google.com/assets/colab-badge.svg\" alt=\"Open In Colab\"/></a>"
      ]
    },
    {
      "cell_type": "code",
      "execution_count": null,
      "metadata": {
        "colab": {
          "base_uri": "https://localhost:8080/"
        },
        "id": "VCkwkDtcyCSn",
        "outputId": "caaf50d0-9d17-4672-f1b3-cb9692132281"
      },
      "outputs": [
        {
          "output_type": "stream",
          "name": "stdout",
          "text": [
            "sum: 16\n"
          ]
        }
      ],
      "source": [
        "spam = 1\n",
        "sum = 0\n",
        "while spam <= 10:\n",
        "  spam = spam + 1\n",
        "  if spam % 2 == 0:\n",
        "    if(spam >= 5 and spam <= 8):\n",
        "      continue\n",
        "    sum += spam\n",
        "print(\"sum:\", sum)"
      ]
    },
    {
      "cell_type": "code",
      "source": [
        "\n",
        "sum = 0\n",
        "for number in range(0,11,2):\n",
        "    if 5 <= number <= 8:\n",
        "      continue\n",
        "    sum += number\n",
        "print(\"sum:\", sum)\n"
      ],
      "metadata": {
        "colab": {
          "base_uri": "https://localhost:8080/"
        },
        "id": "_we3f4Xy1hzz",
        "outputId": "f9d5cac8-4836-4d3a-a439-f56c824f5d71"
      },
      "execution_count": null,
      "outputs": [
        {
          "output_type": "stream",
          "name": "stdout",
          "text": [
            "sum: 16\n"
          ]
        }
      ]
    },
    {
      "cell_type": "code",
      "source": [
        "def hello():\n",
        "  print(\"hello world\")\n",
        "hello()"
      ],
      "metadata": {
        "colab": {
          "base_uri": "https://localhost:8080/"
        },
        "id": "X4a23EPa4LUY",
        "outputId": "69127b81-3b2c-4aea-bd29-775e067137cd"
      },
      "execution_count": null,
      "outputs": [
        {
          "output_type": "stream",
          "name": "stdout",
          "text": [
            "hello world\n"
          ]
        }
      ]
    },
    {
      "cell_type": "code",
      "source": [
        "def oddSum(i):\n",
        "  sum = 0\n",
        "  for number in range(0,i,2):\n",
        "    if 5 <= number <= 8:\n",
        "      continue\n",
        "    sum += number\n",
        "  print(\"sum:\", sum)\n",
        "\n",
        "n = int(input(\"enter number: \"))\n",
        "oddSum(n)"
      ],
      "metadata": {
        "id": "XWW_nASf4ujI",
        "colab": {
          "base_uri": "https://localhost:8080/",
          "height": 339
        },
        "outputId": "4a419277-6a89-42f9-ee8c-e4b103236e69"
      },
      "execution_count": 33,
      "outputs": [
        {
          "output_type": "error",
          "ename": "KeyboardInterrupt",
          "evalue": "Interrupted by user",
          "traceback": [
            "\u001b[0;31m---------------------------------------------------------------------------\u001b[0m",
            "\u001b[0;31mKeyboardInterrupt\u001b[0m                         Traceback (most recent call last)",
            "\u001b[0;32m<ipython-input-33-8c08b0cc0f37>\u001b[0m in \u001b[0;36m<cell line: 0>\u001b[0;34m()\u001b[0m\n\u001b[1;32m      7\u001b[0m   \u001b[0mprint\u001b[0m\u001b[0;34m(\u001b[0m\u001b[0;34m\"sum:\"\u001b[0m\u001b[0;34m,\u001b[0m \u001b[0msum\u001b[0m\u001b[0;34m)\u001b[0m\u001b[0;34m\u001b[0m\u001b[0;34m\u001b[0m\u001b[0m\n\u001b[1;32m      8\u001b[0m \u001b[0;34m\u001b[0m\u001b[0m\n\u001b[0;32m----> 9\u001b[0;31m \u001b[0mn\u001b[0m \u001b[0;34m=\u001b[0m \u001b[0mint\u001b[0m\u001b[0;34m(\u001b[0m\u001b[0minput\u001b[0m\u001b[0;34m(\u001b[0m\u001b[0;34m\"enter number: \"\u001b[0m\u001b[0;34m)\u001b[0m\u001b[0;34m)\u001b[0m\u001b[0;34m\u001b[0m\u001b[0;34m\u001b[0m\u001b[0m\n\u001b[0m\u001b[1;32m     10\u001b[0m \u001b[0moddSum\u001b[0m\u001b[0;34m(\u001b[0m\u001b[0mn\u001b[0m\u001b[0;34m)\u001b[0m\u001b[0;34m\u001b[0m\u001b[0;34m\u001b[0m\u001b[0m\n",
            "\u001b[0;32m/usr/local/lib/python3.11/dist-packages/ipykernel/kernelbase.py\u001b[0m in \u001b[0;36mraw_input\u001b[0;34m(self, prompt)\u001b[0m\n\u001b[1;32m    849\u001b[0m                 \u001b[0;34m\"raw_input was called, but this frontend does not support input requests.\"\u001b[0m\u001b[0;34m\u001b[0m\u001b[0;34m\u001b[0m\u001b[0m\n\u001b[1;32m    850\u001b[0m             )\n\u001b[0;32m--> 851\u001b[0;31m         return self._input_request(str(prompt),\n\u001b[0m\u001b[1;32m    852\u001b[0m             \u001b[0mself\u001b[0m\u001b[0;34m.\u001b[0m\u001b[0m_parent_ident\u001b[0m\u001b[0;34m,\u001b[0m\u001b[0;34m\u001b[0m\u001b[0;34m\u001b[0m\u001b[0m\n\u001b[1;32m    853\u001b[0m             \u001b[0mself\u001b[0m\u001b[0;34m.\u001b[0m\u001b[0m_parent_header\u001b[0m\u001b[0;34m,\u001b[0m\u001b[0;34m\u001b[0m\u001b[0;34m\u001b[0m\u001b[0m\n",
            "\u001b[0;32m/usr/local/lib/python3.11/dist-packages/ipykernel/kernelbase.py\u001b[0m in \u001b[0;36m_input_request\u001b[0;34m(self, prompt, ident, parent, password)\u001b[0m\n\u001b[1;32m    893\u001b[0m             \u001b[0;32mexcept\u001b[0m \u001b[0mKeyboardInterrupt\u001b[0m\u001b[0;34m:\u001b[0m\u001b[0;34m\u001b[0m\u001b[0;34m\u001b[0m\u001b[0m\n\u001b[1;32m    894\u001b[0m                 \u001b[0;31m# re-raise KeyboardInterrupt, to truncate traceback\u001b[0m\u001b[0;34m\u001b[0m\u001b[0;34m\u001b[0m\u001b[0m\n\u001b[0;32m--> 895\u001b[0;31m                 \u001b[0;32mraise\u001b[0m \u001b[0mKeyboardInterrupt\u001b[0m\u001b[0;34m(\u001b[0m\u001b[0;34m\"Interrupted by user\"\u001b[0m\u001b[0;34m)\u001b[0m \u001b[0;32mfrom\u001b[0m \u001b[0;32mNone\u001b[0m\u001b[0;34m\u001b[0m\u001b[0;34m\u001b[0m\u001b[0m\n\u001b[0m\u001b[1;32m    896\u001b[0m             \u001b[0;32mexcept\u001b[0m \u001b[0mException\u001b[0m \u001b[0;32mas\u001b[0m \u001b[0me\u001b[0m\u001b[0;34m:\u001b[0m\u001b[0;34m\u001b[0m\u001b[0;34m\u001b[0m\u001b[0m\n\u001b[1;32m    897\u001b[0m                 \u001b[0mself\u001b[0m\u001b[0;34m.\u001b[0m\u001b[0mlog\u001b[0m\u001b[0;34m.\u001b[0m\u001b[0mwarning\u001b[0m\u001b[0;34m(\u001b[0m\u001b[0;34m\"Invalid Message:\"\u001b[0m\u001b[0;34m,\u001b[0m \u001b[0mexc_info\u001b[0m\u001b[0;34m=\u001b[0m\u001b[0;32mTrue\u001b[0m\u001b[0;34m)\u001b[0m\u001b[0;34m\u001b[0m\u001b[0;34m\u001b[0m\u001b[0m\n",
            "\u001b[0;31mKeyboardInterrupt\u001b[0m: Interrupted by user"
          ]
        }
      ]
    },
    {
      "cell_type": "code",
      "source": [
        "def answar(n):\n",
        "  if n == 1:\n",
        "    return \"Hello\"\n",
        "  elif n==2:\n",
        "    return \"Hello\"\n"
      ],
      "metadata": {
        "id": "vqFh1KUE6YEz"
      },
      "execution_count": null,
      "outputs": []
    },
    {
      "cell_type": "code",
      "source": [
        "def spam():\n",
        "  eggs = 'spam local'\n",
        "  print(eggs)\n",
        "def bacon():\n",
        "    eggs = 'bacon local'\n",
        "    print(eggs)\n",
        "    spam()\n",
        "    print(eggs)\n",
        "\n",
        "eggs = 'global'\n",
        "bacon()\n",
        "print(eggs)"
      ],
      "metadata": {
        "id": "1GEsc_hj7SEN",
        "colab": {
          "base_uri": "https://localhost:8080/"
        },
        "outputId": "7f852f15-c60f-4228-a1d4-1bbdb5f23e0a"
      },
      "execution_count": 35,
      "outputs": [
        {
          "output_type": "stream",
          "name": "stdout",
          "text": [
            "bacon local\n",
            "spam local\n",
            "bacon local\n",
            "global\n"
          ]
        }
      ]
    },
    {
      "cell_type": "code",
      "source": [
        "def spam(divideBy):\n",
        "   try:\n",
        "    return 42 / divideBy\n",
        "   except ZeroDivisionError:\n",
        "    print('error: invalid number')\n",
        "print(spam(2))\n",
        "print(spam(12))\n",
        "spam(0)\n",
        "print(spam(1))"
      ],
      "metadata": {
        "colab": {
          "base_uri": "https://localhost:8080/"
        },
        "id": "x63jwUbL8QZo",
        "outputId": "1e44cc9f-ed2e-4371-e528-369aeae22233"
      },
      "execution_count": 43,
      "outputs": [
        {
          "output_type": "stream",
          "name": "stdout",
          "text": [
            "21.0\n",
            "3.5\n",
            "error: invalid number\n",
            "42.0\n"
          ]
        }
      ]
    },
    {
      "cell_type": "code",
      "source": [
        "def my_function(a, b, /, *, c, d):\n",
        "  print(a + b + c + d)\n",
        "\n",
        "my_function(5, 6, d = 7, c = 8)"
      ],
      "metadata": {
        "colab": {
          "base_uri": "https://localhost:8080/"
        },
        "id": "YJZV9Pjw_iAP",
        "outputId": "dff7ad86-322a-4378-854b-f8ec2796fd18"
      },
      "execution_count": 49,
      "outputs": [
        {
          "output_type": "stream",
          "name": "stdout",
          "text": [
            "26\n"
          ]
        }
      ]
    },
    {
      "cell_type": "code",
      "source": [
        "x = lambda a, b : a * b\n",
        "print(x(5, 6))\n",
        "print(x)"
      ],
      "metadata": {
        "colab": {
          "base_uri": "https://localhost:8080/"
        },
        "id": "1CKdSQkkCTWM",
        "outputId": "f13cc2c7-9d78-449c-fbb5-58e51ba85402"
      },
      "execution_count": 51,
      "outputs": [
        {
          "output_type": "stream",
          "name": "stdout",
          "text": [
            "30\n",
            "<function <lambda> at 0x7c5fd7dc8680>\n"
          ]
        }
      ]
    },
    {
      "cell_type": "code",
      "source": [
        "mix = [1,'rakib',22.434,'v']\n",
        "print(mix[0])\n",
        "print(str(mix[0]))"
      ],
      "metadata": {
        "colab": {
          "base_uri": "https://localhost:8080/"
        },
        "id": "6IVtQvfeDk5w",
        "outputId": "135eb157-4435-4b51-a961-e43df1af25e9"
      },
      "execution_count": 60,
      "outputs": [
        {
          "output_type": "stream",
          "name": "stdout",
          "text": [
            "1\n",
            "1\n"
          ]
        }
      ]
    },
    {
      "cell_type": "code",
      "source": [
        "mix = [1,'rakib',22.434,'v']\n",
        "# print(mix[0:2])\n",
        "# print(mix[0:])\n",
        "# print(mix[:2])\n",
        "# print(mix[0:-1])\n",
        "# mix[:]\n",
        "mix[0:2]\n",
        "# mix\n"
      ],
      "metadata": {
        "colab": {
          "base_uri": "https://localhost:8080/"
        },
        "id": "ecYVsWVjFgRb",
        "outputId": "11d1cb4e-eed2-4347-a02b-541d987f0c30"
      },
      "execution_count": 74,
      "outputs": [
        {
          "output_type": "execute_result",
          "data": {
            "text/plain": [
              "[1, 'rakib']"
            ]
          },
          "metadata": {},
          "execution_count": 74
        }
      ]
    }
  ]
}