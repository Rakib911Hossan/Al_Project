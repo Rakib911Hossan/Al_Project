{
  "nbformat": 4,
  "nbformat_minor": 0,
  "metadata": {
    "colab": {
      "provenance": [],
      "authorship_tag": "ABX9TyNdFzmejSnPhypcEk21PNHj",
      "include_colab_link": true
    },
    "kernelspec": {
      "name": "python3",
      "display_name": "Python 3"
    },
    "language_info": {
      "name": "python"
    }
  },
  "cells": [
    {
      "cell_type": "markdown",
      "metadata": {
        "id": "view-in-github",
        "colab_type": "text"
      },
      "source": [
        "<a href=\"https://colab.research.google.com/github/Rakib911Hossan/Al_Project/blob/main/lb_2_after_mid.ipynb\" target=\"_parent\"><img src=\"https://colab.research.google.com/assets/colab-badge.svg\" alt=\"Open In Colab\"/></a>"
      ]
    },
    {
      "cell_type": "code",
      "execution_count": null,
      "metadata": {
        "id": "zWVfD0FFtW4y"
      },
      "outputs": [],
      "source": [
        "SuccList ={ 'A':[['B',3],['C',2]], 'B':[['A',5],['C',2],['D',2],['E',3]],\n",
        "           'C':[['A',5],['B',3],['F',2],['G',4]], 'D':[['H',1],['I',99]],'F': [['J',99]],'G':[['K',99],['L',3]]}\n",
        "Start='A'\n",
        "Goal='E'\n",
        "Closed = list()\n",
        "SUCCESS=True\n",
        "FAILURE=False\n",
        "State=FAILURE\n",
        "\n",
        "heuristic = {\n",
        "    'A': 5, 'B': 4, 'C': 4, 'D': 3, 'E': 0,\n",
        "    'F': 7, 'G': 6, 'H': 6, 'I': 10, 'J': 10,\n",
        "    'K': 10, 'L': 5\n",
        "}\n",
        "\n",
        "def MOVEGEN(N):\n",
        "\tNew_list = list()\n",
        "\tif N in SuccList.keys():\n",
        "\t\tNew_list = SuccList[N]\n",
        "\treturn New_list\n",
        "\n",
        "def GOALTEST(N):\n",
        "\treturn N == Goal\n",
        "\n",
        "def APPEND(L1,L2):\n",
        "\treturn list(L1) + list(L2)\n",
        "\n",
        "def AStarSearch():\n",
        "\tOPEN = [[Start, 0 + heuristic[Start], 0]]  # [Node, f(n), g(n)]\n",
        "\tCLOSED = []\n",
        "\tglobal State\n",
        "\tglobal Closed\n",
        "\n",
        "\twhile len(OPEN) != 0 and State != SUCCESS:\n",
        "\t\tprint(\"------------\")\n",
        "\t\tOPEN.sort(key=lambda x: x[1])  # sort by f(n)\n",
        "\t\tN = OPEN[0]\n",
        "\t\tprint(\"N=\", N)\n",
        "\t\tdel OPEN[0]\n",
        "\n",
        "\t\tif GOALTEST(N[0]):\n",
        "\t\t\tState = SUCCESS\n",
        "\t\t\tCLOSED = APPEND(CLOSED, [N])\n",
        "\t\t\tprint(\"CLOSED=\", CLOSED)\n",
        "\t\t\tbreak\n",
        "\t\telse:\n",
        "\t\t\tCLOSED = APPEND(CLOSED, [N])\n",
        "\t\t\tprint(\"CLOSED=\", CLOSED)\n",
        "\t\t\tchildren = MOVEGEN(N[0])\n",
        "\t\t\tprint(\"CHILDREN=\", children)\n",
        "\t\t\tfor child in children:\n",
        "\t\t\t\tchild_node = child[0]\n",
        "\t\t\t\tstep_cost = child[1]\n",
        "\t\t\t\tg = N[2] + step_cost\n",
        "\t\t\t\tf = g + heuristic.get(child_node, 99)\n",
        "\t\t\t\tin_open = next((item for item in OPEN if item[0] == child_node and item[2] <= g), None)\n",
        "\t\t\t\tin_closed = next((item for item in CLOSED if item[0] == child_node and item[2] <= g), None)\n",
        "\n",
        "\t\t\t\tif not in_open and not in_closed:\n",
        "\t\t\t\t\tOPEN.append([child_node, f, g])\n",
        "\n",
        "\tClosed = CLOSED\n",
        "\treturn State\n",
        "\n",
        "# Driver code\n",
        "result = AStarSearch()\n",
        "print(\"\\nFinal CLOSED list:\", Closed)\n",
        "print(\"Result:\", result)\n"
      ]
    }
  ]
}