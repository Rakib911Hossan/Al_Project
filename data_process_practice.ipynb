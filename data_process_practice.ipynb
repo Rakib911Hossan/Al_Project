{
  "nbformat": 4,
  "nbformat_minor": 0,
  "metadata": {
    "colab": {
      "provenance": [],
      "authorship_tag": "ABX9TyP4mdX9kAFGkLN2qd/aziFs",
      "include_colab_link": true
    },
    "kernelspec": {
      "name": "python3",
      "display_name": "Python 3"
    },
    "language_info": {
      "name": "python"
    }
  },
  "cells": [
    {
      "cell_type": "markdown",
      "metadata": {
        "id": "view-in-github",
        "colab_type": "text"
      },
      "source": [
        "<a href=\"https://colab.research.google.com/github/Rakib911Hossan/Al_Project/blob/main/data_process_practice.ipynb\" target=\"_parent\"><img src=\"https://colab.research.google.com/assets/colab-badge.svg\" alt=\"Open In Colab\"/></a>"
      ]
    },
    {
      "cell_type": "code",
      "execution_count": 2,
      "metadata": {
        "colab": {
          "base_uri": "https://localhost:8080/"
        },
        "id": "MCfpoua8UEcX",
        "outputId": "19dbd25a-15f9-452b-b7fd-40b0689192b4"
      },
      "outputs": [
        {
          "output_type": "stream",
          "name": "stdout",
          "text": [
            "Standardized Data:\n",
            " [[-0.35366814 -0.81537425 -0.72400784]\n",
            " [ 1.36266253 -0.59299945 -0.69006997]\n",
            " [-1.00899439  1.4083737   1.41407782]]\n"
          ]
        }
      ],
      "source": [
        "import numpy as np\n",
        "from sklearn import preprocessing\n",
        "\n",
        "data = np.array([[12, -9, 0.5],\n",
        "                 [34, -7, 1],\n",
        "                 [3.6, 11, 32]])\n",
        "\n",
        "standardized_data = preprocessing.StandardScaler().fit_transform(data)\n",
        "print(\"Standardized Data:\\n\", standardized_data)\n"
      ]
    },
    {
      "cell_type": "code",
      "source": [
        "robust_scaled_data = preprocessing.RobustScaler().fit_transform(data)\n",
        "print(\"Robust Scaled Data:\\n\", robust_scaled_data)\n"
      ],
      "metadata": {
        "colab": {
          "base_uri": "https://localhost:8080/"
        },
        "id": "_OjnxJRsVB1o",
        "outputId": "3f27d076-0d9f-4e6c-ef4a-30333e8109ee"
      },
      "execution_count": 4,
      "outputs": [
        {
          "output_type": "stream",
          "name": "stdout",
          "text": [
            "Robust Scaled Data:\n",
            " [[ 0.         -0.2        -0.03174603]\n",
            " [ 1.44736842  0.          0.        ]\n",
            " [-0.55263158  1.8         1.96825397]]\n"
          ]
        }
      ]
    },
    {
      "cell_type": "code",
      "source": [
        "quantile_transformed_data = preprocessing.QuantileTransformer(output_distribution='uniform').fit_transform(data)\n",
        "print(\"Quantile Transformed Data (Uniform):\\n\", quantile_transformed_data)\n"
      ],
      "metadata": {
        "colab": {
          "base_uri": "https://localhost:8080/"
        },
        "id": "0gfN5SYLVD7J",
        "outputId": "7c007231-18ea-4207-f584-caf02f74e3d4"
      },
      "execution_count": 6,
      "outputs": [
        {
          "output_type": "stream",
          "name": "stdout",
          "text": [
            "Quantile Transformed Data (Uniform):\n",
            " [[0.5 0.  0. ]\n",
            " [1.  0.5 0.5]\n",
            " [0.  1.  1. ]]\n"
          ]
        },
        {
          "output_type": "stream",
          "name": "stderr",
          "text": [
            "/usr/local/lib/python3.11/dist-packages/sklearn/preprocessing/_data.py:2829: UserWarning: n_quantiles (1000) is greater than the total number of samples (3). n_quantiles is set to n_samples.\n",
            "  warnings.warn(\n"
          ]
        }
      ]
    },
    {
      "cell_type": "code",
      "source": [
        "quantile_transformed_gaussian = preprocessing.QuantileTransformer(output_distribution='normal').fit_transform(data)\n",
        "print(\"Quantile Transformed Data (Gaussian):\\n\", quantile_transformed_gaussian)"
      ],
      "metadata": {
        "colab": {
          "base_uri": "https://localhost:8080/"
        },
        "id": "CPZIZwArVLTO",
        "outputId": "4b679381-863e-4238-c001-47b7479aa8d1"
      },
      "execution_count": 9,
      "outputs": [
        {
          "output_type": "stream",
          "name": "stdout",
          "text": [
            "Quantile Transformed Data (Gaussian):\n",
            " [[ 0.         -5.19933758 -5.19933758]\n",
            " [ 5.19933758  0.          0.        ]\n",
            " [-5.19933758  5.19933758  5.19933758]]\n"
          ]
        },
        {
          "output_type": "stream",
          "name": "stderr",
          "text": [
            "/usr/local/lib/python3.11/dist-packages/sklearn/preprocessing/_data.py:2829: UserWarning: n_quantiles (1000) is greater than the total number of samples (3). n_quantiles is set to n_samples.\n",
            "  warnings.warn(\n"
          ]
        }
      ]
    },
    {
      "cell_type": "code",
      "source": [
        "power_transformed_data = preprocessing.PowerTransformer(method='yeo-johnson').fit_transform(data)\n",
        "print(\"Power Transformed Data:\\n\", power_transformed_data)\n"
      ],
      "metadata": {
        "colab": {
          "base_uri": "https://localhost:8080/"
        },
        "id": "vr9iPdggVbjx",
        "outputId": "ae9adaf3-86e7-403c-dc79-32a9cf443b24"
      },
      "execution_count": 10,
      "outputs": [
        {
          "output_type": "stream",
          "name": "stdout",
          "text": [
            "Power Transformed Data:\n",
            " [[ 0.00780855 -0.91786524 -0.92211085]\n",
            " [ 1.22082193 -0.47280906 -0.46753689]\n",
            " [-1.22863048  1.3906743   1.38964774]]\n"
          ]
        }
      ]
    },
    {
      "cell_type": "code",
      "source": [
        "max_abs_scaled_data = preprocessing.MaxAbsScaler().fit_transform(data)\n",
        "print(\"Max Abs Scaled Data:\\n\", max_abs_scaled_data)\n"
      ],
      "metadata": {
        "colab": {
          "base_uri": "https://localhost:8080/"
        },
        "id": "OmJktSv5Vb_E",
        "outputId": "78b05488-1322-4d2a-9c51-68599ff6b2bf"
      },
      "execution_count": 11,
      "outputs": [
        {
          "output_type": "stream",
          "name": "stdout",
          "text": [
            "Max Abs Scaled Data:\n",
            " [[ 0.35294118 -0.81818182  0.015625  ]\n",
            " [ 1.         -0.63636364  0.03125   ]\n",
            " [ 0.10588235  1.          1.        ]]\n"
          ]
        }
      ]
    }
  ]
}