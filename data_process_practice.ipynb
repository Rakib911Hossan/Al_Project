{
  "nbformat": 4,
  "nbformat_minor": 0,
  "metadata": {
    "colab": {
      "provenance": [],
      "authorship_tag": "ABX9TyO2v6/P+k8D4C4kx0ixSHP1",
      "include_colab_link": true
    },
    "kernelspec": {
      "name": "python3",
      "display_name": "Python 3"
    },
    "language_info": {
      "name": "python"
    }
  },
  "cells": [
    {
      "cell_type": "markdown",
      "metadata": {
        "id": "view-in-github",
        "colab_type": "text"
      },
      "source": [
        "<a href=\"https://colab.research.google.com/github/Rakib911Hossan/Al_Project/blob/main/data_process_practice.ipynb\" target=\"_parent\"><img src=\"https://colab.research.google.com/assets/colab-badge.svg\" alt=\"Open In Colab\"/></a>"
      ]
    },
    {
      "cell_type": "code",
      "execution_count": 2,
      "metadata": {
        "colab": {
          "base_uri": "https://localhost:8080/"
        },
        "id": "MCfpoua8UEcX",
        "outputId": "19dbd25a-15f9-452b-b7fd-40b0689192b4"
      },
      "outputs": [
        {
          "output_type": "stream",
          "name": "stdout",
          "text": [
            "Standardized Data:\n",
            " [[-0.35366814 -0.81537425 -0.72400784]\n",
            " [ 1.36266253 -0.59299945 -0.69006997]\n",
            " [-1.00899439  1.4083737   1.41407782]]\n"
          ]
        }
      ],
      "source": [
        "import numpy as np\n",
        "from sklearn import preprocessing\n",
        "\n",
        "data = np.array([[12, -9, 0.5],\n",
        "                 [34, -7, 1],\n",
        "                 [3.6, 11, 32]])\n",
        "\n",
        "standardized_data = preprocessing.StandardScaler().fit_transform(data)\n",
        "print(\"Standardized Data:\\n\", standardized_data)\n"
      ]
    },
    {
      "cell_type": "code",
      "source": [
        "robust_scaled_data = preprocessing.RobustScaler().fit_transform(data)\n",
        "print(\"Robust Scaled Data:\\n\", robust_scaled_data)\n"
      ],
      "metadata": {
        "colab": {
          "base_uri": "https://localhost:8080/"
        },
        "id": "_OjnxJRsVB1o",
        "outputId": "3f27d076-0d9f-4e6c-ef4a-30333e8109ee"
      },
      "execution_count": 4,
      "outputs": [
        {
          "output_type": "stream",
          "name": "stdout",
          "text": [
            "Robust Scaled Data:\n",
            " [[ 0.         -0.2        -0.03174603]\n",
            " [ 1.44736842  0.          0.        ]\n",
            " [-0.55263158  1.8         1.96825397]]\n"
          ]
        }
      ]
    },
    {
      "cell_type": "code",
      "source": [
        "quantile_transformed_data = preprocessing.QuantileTransformer(output_distribution='uniform').fit_transform(data)\n",
        "print(\"Quantile Transformed Data (Uniform):\\n\", quantile_transformed_data)\n"
      ],
      "metadata": {
        "colab": {
          "base_uri": "https://localhost:8080/"
        },
        "id": "0gfN5SYLVD7J",
        "outputId": "7c007231-18ea-4207-f584-caf02f74e3d4"
      },
      "execution_count": 6,
      "outputs": [
        {
          "output_type": "stream",
          "name": "stdout",
          "text": [
            "Quantile Transformed Data (Uniform):\n",
            " [[0.5 0.  0. ]\n",
            " [1.  0.5 0.5]\n",
            " [0.  1.  1. ]]\n"
          ]
        },
        {
          "output_type": "stream",
          "name": "stderr",
          "text": [
            "/usr/local/lib/python3.11/dist-packages/sklearn/preprocessing/_data.py:2829: UserWarning: n_quantiles (1000) is greater than the total number of samples (3). n_quantiles is set to n_samples.\n",
            "  warnings.warn(\n"
          ]
        }
      ]
    },
    {
      "cell_type": "code",
      "source": [
        "quantile_transformed_gaussian = preprocessing.QuantileTransformer(output_distribution='normal').fit_transform(data)\n",
        "print(\"Quantile Transformed Data (Gaussian):\\n\", quantile_transformed_gaussian)"
      ],
      "metadata": {
        "id": "CPZIZwArVLTO",
        "outputId": "a2a860ba-f379-4f67-dd03-5e6c1bb8fc77",
        "colab": {
          "base_uri": "https://localhost:8080/"
        }
      },
      "execution_count": 8,
      "outputs": [
        {
          "output_type": "stream",
          "name": "stdout",
          "text": [
            "Quantile Transformed Data (Gaussian):\n",
            " [[ 0.         -5.19933758 -5.19933758]\n",
            " [ 5.19933758  0.          0.        ]\n",
            " [-5.19933758  5.19933758  5.19933758]]\n"
          ]
        },
        {
          "output_type": "stream",
          "name": "stderr",
          "text": [
            "/usr/local/lib/python3.11/dist-packages/sklearn/preprocessing/_data.py:2829: UserWarning: n_quantiles (1000) is greater than the total number of samples (3). n_quantiles is set to n_samples.\n",
            "  warnings.warn(\n"
          ]
        }
      ]
    }
  ]
}